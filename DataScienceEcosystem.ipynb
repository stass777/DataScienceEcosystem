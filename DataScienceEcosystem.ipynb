{
 "cells": [
  {
   "cell_type": "markdown",
   "id": "8e2fbd3e-d60d-46b7-93db-20da6c1d15b7",
   "metadata": {},
   "source": [
    "# Data Science Tools and Ecosystem"
   ]
  },
  {
   "cell_type": "markdown",
   "id": "559b0c7e-180e-484f-b692-cef0bd5c3be7",
   "metadata": {},
   "source": [
    "In this notebook, Data Science Tools and Ecosystem are summarized."
   ]
  },
  {
   "cell_type": "markdown",
   "id": "d3d90123-1270-4c04-9e91-a9bcf6b6d082",
   "metadata": {},
   "source": [
    "## Objectives:\n",
    "* List popular languages for Data Science\n",
    "* List popular libraries for Data Science\n",
    "* List Data Science Tools"
   ]
  },
  {
   "cell_type": "markdown",
   "id": "0782b503-cfdf-4116-b36c-8e84d49c1542",
   "metadata": {},
   "source": [
    "Some of the popular languages that Data Scientists use are:\n",
    "1. Python\n",
    "2. R\n",
    "3. Scala\n",
    "4. Julia"
   ]
  },
  {
   "cell_type": "markdown",
   "id": "7e053e4d-3fcd-43eb-8d4f-ca2c7fe2f436",
   "metadata": {},
   "source": [
    "Some of the commonly used libraries used by Data Scientists include:\n",
    "1. Pandas\n",
    "2. NumPy\n",
    "3. Matplotlib\n",
    "4. Seaborn\n",
    "5. SciPy"
   ]
  },
  {
   "cell_type": "markdown",
   "id": "0d63eaaf-893c-4f09-a931-3089921d11aa",
   "metadata": {},
   "source": [
    "|Data Science Tools:|\n",
    "|---------------|\n",
    "| MongoDB |\n",
    "| ApacheCouchDB |\n",
    "| ApacheCassandra |"
   ]
  },
  {
   "cell_type": "markdown",
   "id": "b7f74ba5-c1f8-4d99-9ae7-d9d036a10092",
   "metadata": {},
   "source": [
    "### Below are a few examples of evaluating arithmetic expressions in Python:"
   ]
  },
  {
   "cell_type": "markdown",
   "id": "86a257d7-fcf0-47de-a9df-999b64795682",
   "metadata": {},
   "source": [
    "## This a simple arithmetic expression to mutiply then add integers:\n",
    "(3*4)+5"
   ]
  },
  {
   "cell_type": "markdown",
   "id": "f98e0a88-c43c-44c1-a5a5-0150dc3bf2e6",
   "metadata": {},
   "source": [
    "## This will convert 200 minutes to hours by diving by 60\n",
    "200/60"
   ]
  },
  {
   "cell_type": "markdown",
   "id": "e1e45811-5927-40dd-911a-ef17a16f3d98",
   "metadata": {},
   "source": [
    "## Author\n",
    " Stas Morari "
   ]
  }
 ],
 "metadata": {
  "kernelspec": {
   "display_name": "Python 3 (ipykernel)",
   "language": "python",
   "name": "python3"
  },
  "language_info": {
   "codemirror_mode": {
    "name": "ipython",
    "version": 3
   },
   "file_extension": ".py",
   "mimetype": "text/x-python",
   "name": "python",
   "nbconvert_exporter": "python",
   "pygments_lexer": "ipython3",
   "version": "3.12.4"
  }
 },
 "nbformat": 4,
 "nbformat_minor": 5
}
